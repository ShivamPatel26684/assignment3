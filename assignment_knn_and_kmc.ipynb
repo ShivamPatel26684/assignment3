{
  "cells": [
    {
      "cell_type": "markdown",
      "id": "f7ef20f0-722f-4240-8a79-437d4a3b8832",
      "metadata": {
        "id": "f7ef20f0-722f-4240-8a79-437d4a3b8832"
      },
      "source": [
        "## Assignment 3: $k$ Nearest Neighbor and $k$ Means Clustering\n",
        "\n",
        "## **Do three questions.**\n",
        "\n",
        "`! git clone https://www.github.com/DS3001/assignment3`"
      ]
    },
    {
      "cell_type": "markdown",
      "id": "d0f34497-2d71-4705-ac63-c0532e545022",
      "metadata": {
        "id": "d0f34497-2d71-4705-ac63-c0532e545022"
      },
      "source": [
        "**Q1.** This question is a case study for $k$ nearest neighbor. The target variable `y` is `Purchase` and the features of interest are `Age` and `AnnualSalary`.\n",
        "\n",
        "1. Load the `./data/car_data.csv` data. Look at the head and dimensions of the data.\n",
        "2. Summarize the variables (`User.ID`, `Gender`, `Age`, `AnnualSalary`, `Purchase`). Are there any missings to clean? Convert the `Gender` categorical variable into a dummy variable that takes the value 0 for male and 1 for female. Create a matrix $X$ of predictors including `Age` and `AnnualSalary`, and an outcome $y$ equaling `Purchase`.\n",
        "3. MaxMin-normalize `Age` and `AnnualSalary` in `X`.\n",
        "4. Split the sample into a ~80% training dataset and a ~20% testing dataset.\n",
        "5. Treat this as a classification problem: The model is supposed to predict 0 or 1 for each customer, classifying them as a purchaser or non-purchaser. Use sklearn to determine the optimal number of neighbors $k$ to use.\n",
        "6. Run the model for the optimal number of neighbors on the testing data. Cross tabulate the predicted outcomes against the actual outcomes; this is called a **confusion matrix**. How often does the model predict a sale when one fails to occur? How often does the model predict no sale when one does occur? Overall, does it provide accurate predictions?\n",
        "7. Now, compute confusion matrices separately for men and women, as in part 6. Does the model make more accurate predictions for one sex or the other? Explain. (Performance of algorithms on population subgroups is a growing topic in data science.)"
      ]
    },
    {
      "cell_type": "code",
      "source": [
        "import numpy as np\n",
        "import pandas as pd\n",
        "import seaborn as sns\n",
        "\n",
        "def pn(x):\n",
        "  print(x,'\\n')\n",
        "  return"
      ],
      "metadata": {
        "id": "lPqOM2lZVDw4"
      },
      "id": "lPqOM2lZVDw4",
      "execution_count": 2,
      "outputs": []
    },
    {
      "cell_type": "code",
      "source": [
        "#1.1\n",
        "df = pd.read_csv('/content/car_data.csv')\n",
        "pn(df.head())\n",
        "pn(df.shape)"
      ],
      "metadata": {
        "colab": {
          "base_uri": "https://localhost:8080/"
        },
        "id": "F71f_z6LV8wE",
        "outputId": "1744db5c-b474-4d21-d586-f817aafa9035"
      },
      "id": "F71f_z6LV8wE",
      "execution_count": 9,
      "outputs": [
        {
          "output_type": "stream",
          "name": "stdout",
          "text": [
            "   User ID Gender  Age  AnnualSalary  Purchased\n",
            "0      385   Male   35         20000          0\n",
            "1      681   Male   40         43500          0\n",
            "2      353   Male   49         74000          0\n",
            "3      895   Male   40        107500          1\n",
            "4      661   Male   25         79000          0 \n",
            "\n",
            "(1000, 5) \n",
            "\n"
          ]
        }
      ]
    },
    {
      "cell_type": "code",
      "source": [
        "#1.2.1\n",
        "pn(df[['User ID', 'Gender', 'Age', 'AnnualSalary', 'Purchased']].describe())"
      ],
      "metadata": {
        "colab": {
          "base_uri": "https://localhost:8080/"
        },
        "id": "iOf_HhHaWtv9",
        "outputId": "4fa4e09c-6586-41b0-f0b9-f18cec5cfccc"
      },
      "id": "iOf_HhHaWtv9",
      "execution_count": 17,
      "outputs": [
        {
          "output_type": "stream",
          "name": "stdout",
          "text": [
            "           User ID          Age   AnnualSalary    Purchased\n",
            "count  1000.000000  1000.000000    1000.000000  1000.000000\n",
            "mean    500.500000    40.106000   72689.000000     0.402000\n",
            "std     288.819436    10.707073   34488.341867     0.490547\n",
            "min       1.000000    18.000000   15000.000000     0.000000\n",
            "25%     250.750000    32.000000   46375.000000     0.000000\n",
            "50%     500.500000    40.000000   72000.000000     0.000000\n",
            "75%     750.250000    48.000000   90000.000000     1.000000\n",
            "max    1000.000000    63.000000  152500.000000     1.000000 \n",
            "\n"
          ]
        }
      ]
    },
    {
      "cell_type": "code",
      "source": [
        "#1.2.2\n",
        "checkNull = df.isnull().sum()\n",
        "pn(checkNull)\n",
        "if (checkNull == 0).all():\n",
        "  pn(\"No Null Values\")"
      ],
      "metadata": {
        "colab": {
          "base_uri": "https://localhost:8080/"
        },
        "id": "jvHj_OXqYB4d",
        "outputId": "b78964a2-3a26-4429-9d7d-47203217d028"
      },
      "id": "jvHj_OXqYB4d",
      "execution_count": 19,
      "outputs": [
        {
          "output_type": "stream",
          "name": "stdout",
          "text": [
            "User ID         0\n",
            "Gender          0\n",
            "Age             0\n",
            "AnnualSalary    0\n",
            "Purchased       0\n",
            "dtype: int64 \n",
            "\n",
            "No Null Values \n",
            "\n"
          ]
        }
      ]
    },
    {
      "cell_type": "code",
      "source": [
        "#1.2.3\n",
        "df['numGender'] = df['Gender'].replace(['Male','Female'],[0,1])\n",
        "pn(df)"
      ],
      "metadata": {
        "colab": {
          "base_uri": "https://localhost:8080/"
        },
        "id": "94Ze_n-iYO3z",
        "outputId": "b1fcc590-fbdf-4735-9778-632e2753ba53"
      },
      "id": "94Ze_n-iYO3z",
      "execution_count": 22,
      "outputs": [
        {
          "output_type": "stream",
          "name": "stdout",
          "text": [
            "     User ID  Gender  Age  AnnualSalary  Purchased  numGender\n",
            "0        385    Male   35         20000          0          0\n",
            "1        681    Male   40         43500          0          0\n",
            "2        353    Male   49         74000          0          0\n",
            "3        895    Male   40        107500          1          0\n",
            "4        661    Male   25         79000          0          0\n",
            "..       ...     ...  ...           ...        ...        ...\n",
            "995      863    Male   38         59000          0          0\n",
            "996      800  Female   47         23500          0          1\n",
            "997      407  Female   28        138500          1          1\n",
            "998      299  Female   48        134000          1          1\n",
            "999      687  Female   44         73500          0          1\n",
            "\n",
            "[1000 rows x 6 columns] \n",
            "\n"
          ]
        }
      ]
    },
    {
      "cell_type": "code",
      "source": [
        "#1.2.4\n",
        "X = df.loc[:,['Age','AnnualSalary']]\n",
        "y = df['Purchased']\n",
        "pn(X)\n",
        "pn(y)"
      ],
      "metadata": {
        "colab": {
          "base_uri": "https://localhost:8080/"
        },
        "id": "1Vf6RjhsZkL2",
        "outputId": "2e04e8a6-893f-4f7e-d81f-585c4e6e0438"
      },
      "id": "1Vf6RjhsZkL2",
      "execution_count": 27,
      "outputs": [
        {
          "output_type": "stream",
          "name": "stdout",
          "text": [
            "     Age  AnnualSalary\n",
            "0     35         20000\n",
            "1     40         43500\n",
            "2     49         74000\n",
            "3     40        107500\n",
            "4     25         79000\n",
            "..   ...           ...\n",
            "995   38         59000\n",
            "996   47         23500\n",
            "997   28        138500\n",
            "998   48        134000\n",
            "999   44         73500\n",
            "\n",
            "[1000 rows x 2 columns] \n",
            "\n",
            "0      0\n",
            "1      0\n",
            "2      0\n",
            "3      1\n",
            "4      0\n",
            "      ..\n",
            "995    0\n",
            "996    0\n",
            "997    1\n",
            "998    1\n",
            "999    0\n",
            "Name: Purchased, Length: 1000, dtype: int64 \n",
            "\n"
          ]
        }
      ]
    },
    {
      "cell_type": "code",
      "source": [
        "#1.3\n",
        "def maxmin(z):\n",
        "    z = (z-min(z))/(max(z)-min(z))\n",
        "    return(z)\n",
        "\n",
        "X = X.apply(maxmin)\n",
        "pn(X)"
      ],
      "metadata": {
        "colab": {
          "base_uri": "https://localhost:8080/"
        },
        "id": "4VXB7Wj2amj_",
        "outputId": "a44f8cb0-ee9b-4b6a-df3b-907788102013"
      },
      "id": "4VXB7Wj2amj_",
      "execution_count": 30,
      "outputs": [
        {
          "output_type": "stream",
          "name": "stdout",
          "text": [
            "          Age  AnnualSalary\n",
            "0    0.377778      0.036364\n",
            "1    0.488889      0.207273\n",
            "2    0.688889      0.429091\n",
            "3    0.488889      0.672727\n",
            "4    0.155556      0.465455\n",
            "..        ...           ...\n",
            "995  0.444444      0.320000\n",
            "996  0.644444      0.061818\n",
            "997  0.222222      0.898182\n",
            "998  0.666667      0.865455\n",
            "999  0.577778      0.425455\n",
            "\n",
            "[1000 rows x 2 columns] \n",
            "\n"
          ]
        }
      ]
    },
    {
      "cell_type": "code",
      "source": [
        "#1.4\n",
        "from sklearn.model_selection import train_test_split\n",
        "X_train, X_test, y_train, y_test = train_test_split(X,y,test_size=.2,random_state=100)"
      ],
      "metadata": {
        "id": "p1hsMFyobKtj"
      },
      "id": "p1hsMFyobKtj",
      "execution_count": 64,
      "outputs": []
    },
    {
      "cell_type": "code",
      "source": [
        "#Credit to Monkhaus from Youtube: \"PYTHON KNN CLASSIFIER | How to find the optimal value of k without over-fitting - PART 7\"\n",
        "#1.5\n",
        "from sklearn.model_selection import train_test_split,cross_val_score\n",
        "from sklearn.neighbors import KNeighborsClassifier\n",
        "from matplotlib import pyplot as plt\n",
        "k_bar = 70\n",
        "k_values = [i for i in range(1, k_bar + 1,2)]\n",
        "k_acc_scores = []\n",
        "\n",
        "for k in k_values:\n",
        "  knn = KNeighborsClassifier(n_neighbors = k, n_jobs = -1)\n",
        "  cv_scores = cross_val_score(knn, X_train, y_train, cv = 5, scoring = 'accuracy')\n",
        "  k_acc_scores.append(cv_scores.mean())\n",
        "\n",
        "max_k_acc_score = max(k_acc_scores)\n",
        "max_k_acc_score_index = k_acc_scores.index(max_k_acc_score)\n",
        "optimal_k = k_values[max_k_acc_score_index]\n",
        "pn(\"Optimal K value: \"+ str(optimal_k))\n",
        "\n",
        "plt.plot(k_values, k_acc_scores)\n",
        "plt.xlabel(\"k\")\n",
        "plt.ylabel(\"acc\")\n",
        "plt.show()"
      ],
      "metadata": {
        "colab": {
          "base_uri": "https://localhost:8080/",
          "height": 485
        },
        "id": "Qp2RidNdb15R",
        "outputId": "116b2947-9abf-491b-b4ff-7b8914dbff30"
      },
      "id": "Qp2RidNdb15R",
      "execution_count": 43,
      "outputs": [
        {
          "output_type": "stream",
          "name": "stdout",
          "text": [
            "Optimal K value: 5 \n",
            "\n"
          ]
        },
        {
          "output_type": "display_data",
          "data": {
            "text/plain": [
              "<Figure size 640x480 with 1 Axes>"
            ],
            "image/png": "[encoded data removed]"
          },
          "metadata": {}
        }
      ]
    },
    {
      "cell_type": "code",
      "source": [
        "#1.6\n",
        "model = KNeighborsClassifier(n_neighbors = optimal_k)\n",
        "classifer_model = model.fit(X_train, y_train)\n",
        "y_pred = classifer_model.predict(X_test)\n",
        "confusion_matrix = pd.crosstab(y_test, y_pred)\n",
        "confusion_matrix = confusion_matrix.rename_axis('y_pred', axis=1)\n",
        "confusion_matrix = confusion_matrix.rename_axis('y_test', axis=0)\n",
        "pn(confusion_matrix)"
      ],
      "metadata": {
        "colab": {
          "base_uri": "https://localhost:8080/"
        },
        "id": "AnijTrB_i9Fl",
        "outputId": "26d8160d-2cb1-4f87-ce92-e9bada8d43c8"
      },
      "id": "AnijTrB_i9Fl",
      "execution_count": 70,
      "outputs": [
        {
          "output_type": "stream",
          "name": "stdout",
          "text": [
            "y_pred    0   1\n",
            "y_test         \n",
            "0       102  17\n",
            "1         3  78 \n",
            "\n"
          ]
        }
      ]
    },
    {
      "cell_type": "markdown",
      "source": [
        "The model predicts a sale when one fails to occur 17 times. The model predicts no sale when one does occur 3 times. Overall there was 200 data points and 20 out of 200 were incorrectly predicted which means there was 10% error. This means the model is accurate up to 90%. Therefore, the model does provide accurate predictions, however, we would have to account for at least 10% error."
      ],
      "metadata": {
        "id": "5FbNFFTtr2mq"
      },
      "id": "5FbNFFTtr2mq"
    },
    {
      "cell_type": "code",
      "source": [
        "#1.7.1 (male)\n",
        "male_data = df[df['numGender']==0]\n",
        "X = male_data.loc[:,[\"Age\",\"AnnualSalary\"]]\n",
        "y = male_data[\"Purchased\"]\n",
        "\n",
        "X = X.apply(maxmin)\n",
        "X_train, X_test, y_train, y_test = train_test_split(X,y,test_size=.2,random_state=100)\n",
        "k_bar = 70\n",
        "k_values = [i for i in range(1, k_bar + 1,2)]\n",
        "k_acc_scores = []\n",
        "\n",
        "for k in k_values:\n",
        "  knn = KNeighborsClassifier(n_neighbors = k, n_jobs = -1)\n",
        "  cv_scores = cross_val_score(knn, X_train, y_train, cv = 5, scoring = 'accuracy')\n",
        "  k_acc_scores.append(cv_scores.mean())\n",
        "\n",
        "max_k_acc_score = max(k_acc_scores)\n",
        "max_k_acc_score_index = k_acc_scores.index(max_k_acc_score)\n",
        "optimal_k = k_values[max_k_acc_score_index]\n",
        "\n",
        "model = KNeighborsClassifier(n_neighbors = optimal_k)\n",
        "classifer_model = model.fit(X_train, y_train)\n",
        "y_pred = classifer_model.predict(X_test)\n",
        "confusion_matrix = pd.crosstab(y_test, y_pred)\n",
        "confusion_matrix = confusion_matrix.rename_axis('y_pred', axis=1)\n",
        "confusion_matrix = confusion_matrix.rename_axis('y_test', axis=0)\n",
        "pn(confusion_matrix)"
      ],
      "metadata": {
        "colab": {
          "base_uri": "https://localhost:8080/"
        },
        "id": "Go9NSCXqwN8_",
        "outputId": "a229e4e3-cefb-47fc-e20e-04ed356b4af7"
      },
      "id": "Go9NSCXqwN8_",
      "execution_count": 81,
      "outputs": [
        {
          "output_type": "stream",
          "name": "stdout",
          "text": [
            "y_pred   0   1\n",
            "y_test        \n",
            "0       59   3\n",
            "1        3  32 \n",
            "\n"
          ]
        }
      ]
    },
    {
      "cell_type": "code",
      "source": [
        "#1.7.2 (female)\n",
        "female_data = df[df['numGender']==1]\n",
        "X = female_data.loc[:,[\"Age\",\"AnnualSalary\"]]\n",
        "y = female_data[\"Purchased\"]\n",
        "\n",
        "X = X.apply(maxmin)\n",
        "X_train, X_test, y_train, y_test = train_test_split(X,y,test_size=.2,random_state=100)\n",
        "k_bar = 70\n",
        "k_values = [i for i in range(1, k_bar + 1,2)]\n",
        "k_acc_scores = []\n",
        "\n",
        "for k in k_values:\n",
        "  knn = KNeighborsClassifier(n_neighbors = k, n_jobs = -1)\n",
        "  cv_scores = cross_val_score(knn, X_train, y_train, cv = 5, scoring = 'accuracy')\n",
        "  k_acc_scores.append(cv_scores.mean())\n",
        "\n",
        "max_k_acc_score = max(k_acc_scores)\n",
        "max_k_acc_score_index = k_acc_scores.index(max_k_acc_score)\n",
        "optimal_k = k_values[max_k_acc_score_index]\n",
        "\n",
        "model = KNeighborsClassifier(n_neighbors = optimal_k)\n",
        "classifer_model = model.fit(X_train, y_train)\n",
        "y_pred = classifer_model.predict(X_test)\n",
        "confusion_matrix = pd.crosstab(y_test, y_pred)\n",
        "confusion_matrix = confusion_matrix.rename_axis('y_pred', axis=1)\n",
        "confusion_matrix = confusion_matrix.rename_axis('y_test', axis=0)\n",
        "pn(confusion_matrix)"
      ],
      "metadata": {
        "colab": {
          "base_uri": "https://localhost:8080/"
        },
        "id": "G6vgzsw5zUpn",
        "outputId": "b6724725-ac6f-4676-a202-8c72f86690b5"
      },
      "id": "G6vgzsw5zUpn",
      "execution_count": 83,
      "outputs": [
        {
          "output_type": "stream",
          "name": "stdout",
          "text": [
            "y_pred   0   1\n",
            "y_test        \n",
            "0       56   8\n",
            "1        5  35 \n",
            "\n"
          ]
        }
      ]
    },
    {
      "cell_type": "markdown",
      "source": [
        "The model make more accurate predictions for males than for females. Looking at the confusion matrices, for the male confusion matrix, the model  predicted 6 out of 97 points incorrectly which results in 6.12% error while for the female confusion matrix, the model predicted 13 out of 104 points incorrectly which results in 12.5% error. Therefore, the model had almost double the error for females than for males."
      ],
      "metadata": {
        "id": "TEjqghHqzrsa"
      },
      "id": "TEjqghHqzrsa"
    },
    {
      "cell_type": "markdown",
      "id": "71c9e0b8-17f5-4ff9-9c76-2034bffe8d5c",
      "metadata": {
        "id": "71c9e0b8-17f5-4ff9-9c76-2034bffe8d5c"
      },
      "source": [
        "**Q2.** This question is a case study for $k$ nearest neighbor The target variable `y` is `price` and the features are `year` and `mileage`.\n",
        "\n",
        "1. Load the `./data/USA_cars_datasets.csv`. Keep the following variables and drop the rest: `price`, `year`, `mileage`. Are there any `NA`'s to handle? Look at the head and dimensions of the data.\n",
        "2. Maxmin normalize `year` and `mileage`.\n",
        "3. Split the sample into ~80% for training and ~20% for evaluation.\n",
        "4. Use the $k$NN algorithm for regression and the training data to predict `price` using `year` and `mileage` for the test set for $k=3,10,25,50,100,300$. For each value of $k$, compute the Sum of Squared Error and make a scatterplot showing the test value plotted against the predicted value. What patterns do you notice as you increase $k$?\n",
        "5. Determine the optimal $k$ for these data.\n",
        "6. Describe what happened in the plots of predicted versus actual prices as $k$ varied, taking your answer into part 6 into account. (Hint: Use the words \"underfitting\" and \"overfitting\".)"
      ]
    },
    {
      "cell_type": "markdown",
      "id": "010b57f7-bf4f-4494-b54c-49c4f3ae3ab9",
      "metadata": {
        "id": "010b57f7-bf4f-4494-b54c-49c4f3ae3ab9"
      },
      "source": [
        "**Q3.** This question is a case study for $k$ nearest neighbor, particularly variable selection. The data for the question include (summaries reproduced here directly from the codebook):\n",
        "\n",
        "- age: age of the patient (years)\n",
        "- anaemia: decrease of red blood cells or hemoglobin (boolean)\n",
        "- high blood pressure: if the patient has hypertension (boolean)\n",
        "- creatinine phosphokinase (CPK): level of the CPK enzyme in the blood (mcg/L)\n",
        "- diabetes: if the patient has diabetes (boolean)\n",
        "- ejection fraction: percentage of blood leaving the heart at each contraction (percentage)\n",
        "- platelets: platelets in the blood (kiloplatelets/mL)\n",
        "- sex: woman or man (binary)\n",
        "- serum creatinine: level of serum creatinine in the blood (mg/dL)\n",
        "- serum sodium: level of serum sodium in the blood (mEq/L)\n",
        "- smoking: if the patient smokes or not (boolean)\n",
        "- time: follow-up period (days)\n",
        "- death event: if the patient deceased during the follow-up period (boolean)\n",
        "\n",
        "1. Load the `./data/heart_failure_clinical_records_dataset.csv`. Are there any `NA`'s to handle? use `.drop()` to remove `time` from the dataframe.\n",
        "2. Make a correlation matrix. What variables are strongly associated with a death event?\n",
        "3. For the dummy variables `anaemia`, `diabetes`, `high_blood_pressure`, `sex`, and `smoking`, compute a summary table of `DEATH_EVENT` grouped by the variable. For which variables does a higher proportion of the population die when the variable takes the value 1 rather than 0?\n",
        "4. On the basis of your answers from 2 and 3, build a matrix $X$ of the variables you think are most predictive of a death, and a variable $y$ equal to `DEATH_EVENT`.\n",
        "5. Maxmin normalize all of the variables in `X`.\n",
        "6. Split the sample into ~80% for training and ~20% for evaluation. (Try to use the same train/test split for the whole question, so that you're comparing apples to apples in the questions below.).\n",
        "7. Determine the optimal number of neighbors for a $k$NN regression for the variables you selected.\n",
        "8. OK, do steps 5 through 7 again, but use all of the variables (except `time`). Which model has a lower Sum of Squared Error? Which would you prefer to use in practice, if you had to predict `DEATH_EVENT`s? If you play with the selection of variables, how much does the SSE change for your fitted model on the test data? Are more variables better, in this case? Explain your findings."
      ]
    },
    {
      "cell_type": "markdown",
      "id": "d457e190-d273-455f-b94f-62916cb5af1c",
      "metadata": {
        "id": "d457e190-d273-455f-b94f-62916cb5af1c"
      },
      "source": [
        "**Q4.** Let's do some very basic computer vision. We're going to import the MNIST handwritten digits data and $k$NN to predict values (i.e. \"see/read\").\n",
        "\n",
        "1. To load the data, run the following code in a chunk:\n",
        "```\n",
        "from keras.datasets import mnist\n",
        "df = mnist.load_data('minst.db')\n",
        "train,test = df\n",
        "X_train, y_train = train\n",
        "X_test, y_test = test\n",
        "```\n",
        "The `y_test` and `y_train` vectors, for each index `i`, tell you want number is written in the corresponding index in `X_train[i]` and `X_test[i]`. The value of `X_train[i]` and `X_test[i]`, however, is a 28$\\times$28 array whose entries contain values between 0 and 256. Each element of the matrix is essentially a \"pixel\" and the matrix encodes a representation of a number. To visualize this, run the following code to see the first ten numbers:\n",
        "```\n",
        "import matplotlib.pyplot as plt\n",
        "import numpy as np\n",
        "np.set_printoptions(edgeitems=30, linewidth=100000)\n",
        "for i in range(5):\n",
        "    print(y_test[i],'\\n') # Print the label\n",
        "    print(X_test[i],'\\n') # Print the matrix of values\n",
        "    plt.contourf(np.rot90(X_test[i].transpose())) # Make a contour plot of the matrix values\n",
        "    plt.show()\n",
        "```\n",
        "OK, those are the data: Labels attached to handwritten digits encoded as a matrix.\n",
        "\n",
        "2. What is the shape of `X_train` and `X_test`? What is the shape of `X_train[i]` and `X_test[i]` for each index `i`? What is the shape of `y_train` and `y_test`?\n",
        "3. Use Numpy's `.reshape()` method to covert the training and testing data from a matrix into an vector of features. So, `X_test[index].reshape((1,784))` will convert the $index$-th element of `X_test` into a $28\\times 28=784$-length row vector of values, rather than a matrix. Turn `X_train` into an $N \\times 784$ matrix $X$ that is suitable for scikit-learn's kNN classifier where $N$ is the number of observations and $784=28*28$ (you could use, for example, a `for` loop).\n",
        "4. Use the reshaped `X_test` and `y_test` data to create a $k$-nearest neighbor classifier of digit. What is the optimal number of neighbors $k$? If you can't determine this, play around with different values of $k$ for your classifier.\n",
        "5. For the optimal number of neighbors, how well does your predictor perform on the test set?\n",
        "6. So, this is how computers \"see.\" They convert an image into a matrix of values, that matrix becomes a vector in a dataset, and then we deploy ML tools on it as if it was any other kind of tabular data. To make sure you follow this, invent a way to represent a color photo in matrix form, and then describe how you could convert it into tabular data. (Hint: RGB color codes provide a method of encoding a numeric value that represents a color.)"
      ]
    },
    {
      "cell_type": "markdown",
      "id": "9a83222f-16f1-47a1-bd92-91dd4bd4ab8d",
      "metadata": {
        "id": "9a83222f-16f1-47a1-bd92-91dd4bd4ab8d"
      },
      "source": [
        "**Q5.** This question is a case study for $k$ means clustering.\n",
        "\n",
        "1. Load the `airbnb_hw.csv` data. Clean `Price` along with `Beds`, `Number of Reviews`, and `Review Scores Rating`.\n",
        "2. Maxmin normalize the data and remove any `nan`'s (`KMeans` from `sklearn` doesn't accept `nan` input).\n",
        "3. Use `sklearn`'s `KMeans` module to cluster the data by `Beds`, `Number of Reviews`, and `Review Scores Rating` for `k=6`.\n",
        "4. Use `seaborn`'s `.pairplot()` to make a grid of scatterplots that show how the clustering is carried out in multiple dimensions.\n",
        "5. Use `.groupby` and `.describe` to compute the average price for each cluster. Which clusters have the highest rental prices?\n",
        "6. Use a scree plot to pick the number of clusters and repeat steps 4 and 5."
      ]
    },
    {
      "cell_type": "markdown",
      "id": "d765b942-0ddf-4d42-adbf-8b64eeabf4c9",
      "metadata": {
        "id": "d765b942-0ddf-4d42-adbf-8b64eeabf4c9"
      },
      "source": [
        "**Q6.** This is a question about $k$ means clustering. We want to investigate how adjusting the \"noisiness\" of the data impacts the quality of the algorithm and the difficulty of picking $k$.\n",
        "\n",
        "1. Run the code below, which creates four datasets: `df0_125`, `df0_25`, `df0_5`, `df1_0`, and `df2_0`. Each data set is created by increasing the amount of `noise` (standard deviation) around the cluster centers, from `0.125` to `0.25` to `0.5` to `1.0` to `2.0`.\n",
        "\n",
        "```\n",
        "import numpy as np\n",
        "import pandas as pd\n",
        "\n",
        "def createData(noise,N=50):\n",
        "    np.random.seed(100) # Set the seed for replicability\n",
        "    # Generate (x1,x2,g) triples:\n",
        "    X1 = np.array([np.random.normal(1,1,N),np.random.normal(1,1,N)])\n",
        "    X2 = np.array([np.random.normal(3,1,N),np.random.normal(2,1,N)])\n",
        "    X3 = np.array([np.random.normal(5,1,N),np.random.normal(3,1,N)])\n",
        "    # Concatenate into one data frame\n",
        "    gdf1 = pd.DataFrame({'x1':X1[0,:],'x2':X1[1,:],'group':'a'})\n",
        "    gdf2 = pd.DataFrame({'x1':X2[0,:],'x2':X2[1,:],'group':'b'})\n",
        "    gdf3 = pd.DataFrame({'x1':X3[0,:],'x2':X3[1,:],'group':'c'})\n",
        "    df = pd.concat([gdf1,gdf2,gdf3],axis=0)\n",
        "    return df\n",
        "\n",
        "df0_125 = createData(0.125)\n",
        "df0_25 = createData(0.25)\n",
        "df0_5 = createData(0.5)\n",
        "df1_0 = createData(1.0)\n",
        "df2_0 = createData(2.0)\n",
        "```\n",
        "\n",
        "2. Make scatterplots of the $(X1,X2)$ points by group for each of the datasets. As the `noise` goes up from 0.125 to 2.0, what happens to the visual distinctness of the clusters?\n",
        "3. Create a scree plot for each of the datasets. Describe how the level of `noise` affects the scree plot (particularly the presence of a clear \"elbow\") and your ability to definitively select a $k$.\n",
        "4. Explain the intuition of the elbow, using this numerical simulation as an example."
      ]
    },
    {
      "cell_type": "markdown",
      "id": "3c73207b-3ca0-4fe7-a561-5380f683498e",
      "metadata": {
        "id": "3c73207b-3ca0-4fe7-a561-5380f683498e"
      },
      "source": [
        "**Q7.** We looked at computer vision with $k$NN in a previous question. Can $k$ means clustering correctly group digits, even if we don't know which symbols are which?\n",
        "\n",
        "1. To load the data, run the following code in a chunk:\n",
        "```\n",
        "from keras.datasets import mnist\n",
        "df = mnist.load_data('minst.db')\n",
        "train,test = df\n",
        "X_train, y_train = train\n",
        "X_test, y_test = test\n",
        "```\n",
        "The `y_test` and `y_train` vectors, for each index `i`, tell you want number is written in the corresponding index in `X_train[i]` and `X_test[i]`. The value of `X_train[i]` and `X_test[i]`, however, is a 28$\\times$28 array whose entries contain values between 0 and 256. Each element of the matrix is essentially a \"pixel\" and the matrix encodes a representation of a number. To visualize this, run the following code to see the first ten numbers:\n",
        "```\n",
        "import matplotlib.pyplot as plt\n",
        "import numpy as np\n",
        "np.set_printoptions(edgeitems=30, linewidth=100000)\n",
        "for i in range(5):\n",
        "    print(y_test[i],'\\n') # Print the label\n",
        "    print(X_test[i],'\\n') # Print the matrix of values\n",
        "    plt.contourf(np.rot90(X_test[i].transpose())) # Make a contour plot of the matrix values\n",
        "    plt.show()\n",
        "```\n",
        "OK, those are the data: Labels attached to handwritten digits encoded as a matrix.\n",
        "\n",
        "2. What is the shape of `X_train` and `X_test`? What is the shape of `X_train[i]` and `X_test[i]` for each index `i`? What is the shape of `y_train` and `y_test`?\n",
        "3. Use Numpy's `.reshape()` method to covert the training and testing data from a matrix into an vector of features. So, `X_test[index].reshape((1,784))` will convert the $index$-th element of `X_test` into a $28\\times 28=784$-length row vector of values, rather than a matrix. Turn `X_train` into an $N \\times 784$ matrix $X$ that is suitable for scikit-learn's kNN classifier where $N$ is the number of observations and $784=28*28$ (you could use, for example, a `for` loop).\n",
        "4. Use $k$ means clustering on the reshaped `X_test` data with `k=10`.  \n",
        "5. Cross tabulate the cluster assignments with the true labels for the test set values. How good is the correspondence? What proportion of digits are clustered correctly? Which digits are the hardest to distinguish from one another? Can $k$MC recover the latent digits 0 to 9, without even knowing what those digits were?\n",
        "6. If you use a scree plot to determine the number of clusters $k$, does it pick 10 (the true number of digits), or not? If it fails to pick $k=10$, which digits does it tend to combine into the same classification?"
      ]
    }
  ],
  "metadata": {
    "kernelspec": {
      "display_name": "Python 3 (ipykernel)",
      "language": "python",
      "name": "python3"
    },
    "language_info": {
      "codemirror_mode": {
        "name": "ipython",
        "version": 3
      },
      "file_extension": ".py",
      "mimetype": "text/x-python",
      "name": "python",
      "nbconvert_exporter": "python",
      "pygments_lexer": "ipython3",
      "version": "3.10.4"
    },
    "colab": {
      "provenance": []
    }
  },
  "nbformat": 4,
  "nbformat_minor": 5
}